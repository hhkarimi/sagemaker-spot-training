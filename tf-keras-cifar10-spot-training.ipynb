{
 "cells": [
  {
   "cell_type": "markdown",
   "metadata": {},
   "source": [
    "## A quick guide to saving costs with Spot instances on Amazon SageMaker"
   ]
  },
  {
   "cell_type": "markdown",
   "metadata": {},
   "source": [
    "Amazon SageMaker offers managed spot training, which is a way to use Amazon EC2 Spot instances for Amazon SageMaker training jobs. This means you can now save a lot on training workloads without having to setup and manage Spot instances! Amazon SageMaker will automatically provision Spot instances for you. If a Spot instance is reclaimed, Amazon SageMaker will automatically resume training after capacity is available!\n"
   ]
  },
  {
   "cell_type": "code",
   "execution_count": null,
   "metadata": {},
   "outputs": [],
   "source": [
    "import os\n",
    "import numpy as np\n",
    "import time\n",
    "import sys\n",
    "import sagemaker\n",
    "import boto3\n",
    "import matplotlib.pyplot as plt\n",
    "import pandas as pd\n",
    "\n",
    "from sagemaker.session import s3_input\n",
    "from sagemaker.debugger import TensorBoardOutputConfig\n",
    "from sagemaker.tensorflow import TensorFlow\n",
    "\n",
    "sess = boto3.Session()\n",
    "sm   = sess.client('sagemaker')\n",
    "role = sagemaker.get_execution_role()\n",
    "sagemaker_session = sagemaker.Session(boto_session=sess)"
   ]
  },
  {
   "cell_type": "markdown",
   "metadata": {},
   "source": [
    "Download cifar10 dataset and upload to Amazon S3"
   ]
  },
  {
   "cell_type": "code",
   "execution_count": null,
   "metadata": {},
   "outputs": [],
   "source": [
    "!python generate_cifar10_tfrecords.py --data-dir cifar10\n",
    "datasets = sagemaker_session.upload_data(path='cifar10', key_prefix='datasets/cifar10-dataset')"
   ]
  },
  {
   "cell_type": "code",
   "execution_count": null,
   "metadata": {},
   "outputs": [],
   "source": [
    "bucket_name = sagemaker_session.default_bucket()\n",
    "job_folder      = 'jobs'\n",
    "dataset_folder  = 'datasets'\n",
    "\n",
    "train_path = f'{datasets}/train'\n",
    "val_path   = f'{datasets}/validation'\n",
    "eval_path  = f'{datasets}/eval'"
   ]
  },
  {
   "cell_type": "code",
   "execution_count": null,
   "metadata": {},
   "outputs": [],
   "source": [
    "hyperparams={'epochs'       : 10,\n",
    "             'learning-rate': 0.01,\n",
    "             'batch-size'   : 256,\n",
    "             'weight-decay' : 2e-4,\n",
    "             'momentum'     : 0.9,\n",
    "             'optimizer'    : 'adam',\n",
    "             'model-type'   : 'custom'}"
   ]
  },
  {
   "cell_type": "code",
   "execution_count": null,
   "metadata": {},
   "outputs": [],
   "source": [
    "output_path = f's3://{bucket_name}/jobs'\n",
    "job_name    = f'tensorflow-spot-{time.strftime(\"%Y-%m-%d-%H-%M-%S\", time.gmtime())}'\n",
    "tb_config   = TensorBoardOutputConfig(output_path)\n",
    "\n",
    "tf_estimator = TensorFlow(entry_point              = 'cifar10-training-sagemaker.py', \n",
    "                          source_dir               = 'code',\n",
    "                          output_path              = f'{output_path}/',\n",
    "                          code_location            = output_path,\n",
    "                          checkpoint_s3_uri        = f'{output_path}/{job_name}/checkpoints',\n",
    "                          role                     = role,\n",
    "                          train_instance_count     = 1, \n",
    "                          train_instance_type      = 'ml.p3.2xlarge',\n",
    "                          framework_version        = '1.15', \n",
    "                          py_version               = 'py3',\n",
    "                          script_mode              = True,\n",
    "                          train_use_spot_instances = True,\n",
    "                          train_max_wait           = 7200,\n",
    "                          train_max_run            = 3600,\n",
    "                          sagemaker_session        = sagemaker_session,\n",
    "                          hyperparameters          = hyperparams,\n",
    "                          tensorboard_output_config= tb_config)"
   ]
  },
  {
   "cell_type": "code",
   "execution_count": null,
   "metadata": {},
   "outputs": [],
   "source": [
    "tf_estimator.fit({'training'  : train_path,\n",
    "                  'validation': val_path,\n",
    "                  'eval'      : eval_path},\n",
    "                  job_name    = job_name,\n",
    "                  wait        = True)"
   ]
  },
  {
   "cell_type": "markdown",
   "metadata": {},
   "source": [
    "To test your training script to make sure training resumes properly, provide the checkpoint path from the previous job to a new job by specifying it under `checkpoint_s3_uri` \n",
    "\n",
    "`checkpoint_s3_uri = tf_estimator.checkpoint_s3_uri`"
   ]
  },
  {
   "cell_type": "code",
   "execution_count": null,
   "metadata": {},
   "outputs": [],
   "source": [
    "hyperparams={'epochs'       : 20,\n",
    "             'learning-rate': 0.01,\n",
    "             'batch-size'   : 256,\n",
    "             'weight-decay' : 2e-4,\n",
    "             'momentum'     : 0.9,\n",
    "             'optimizer'    : 'adam',\n",
    "             'model-type'   : 'custom'}\n",
    "\n",
    "output_path = f's3://{bucket_name}/jobs'\n",
    "job_name=f'tensorflow-spot-{time.strftime(\"%Y-%m-%d-%H-%M-%S\", time.gmtime())}'\n",
    "\n",
    "tf_estimator_test = TensorFlow(entry_point         = 'cifar10-training-sagemaker.py', \n",
    "                          source_dir               = 'code',\n",
    "                          output_path              = f'{output_path}/',\n",
    "                          code_location            = output_path,\n",
    "                          checkpoint_s3_uri        = tf_estimator.checkpoint_s3_uri,\n",
    "                          role                     = role,\n",
    "                          train_instance_count     = 1, \n",
    "                          train_instance_type      = 'ml.p3.2xlarge',\n",
    "                          framework_version        = '1.15', \n",
    "                          py_version               = 'py3',\n",
    "                          script_mode              = True,\n",
    "                          train_use_spot_instances = True,\n",
    "                          train_max_wait           = 7200,\n",
    "                          train_max_run            = 3600,\n",
    "                          sagemaker_session        = sagemaker_session,\n",
    "                          hyperparameters          = hyperparams)\n",
    "\n",
    "tf_estimator_test.fit({'training'  : train_path,\n",
    "                      'validation': val_path,\n",
    "                      'eval'      : eval_path},\n",
    "                      job_name    = job_name,\n",
    "                      wait        = True)"
   ]
  },
  {
   "cell_type": "code",
   "execution_count": null,
   "metadata": {},
   "outputs": [],
   "source": []
  }
 ],
 "metadata": {
  "kernelspec": {
   "display_name": "conda_tensorflow_p36",
   "language": "python",
   "name": "conda_tensorflow_p36"
  },
  "language_info": {
   "codemirror_mode": {
    "name": "ipython",
    "version": 3
   },
   "file_extension": ".py",
   "mimetype": "text/x-python",
   "name": "python",
   "nbconvert_exporter": "python",
   "pygments_lexer": "ipython3",
   "version": "3.6.6"
  }
 },
 "nbformat": 4,
 "nbformat_minor": 4
}
